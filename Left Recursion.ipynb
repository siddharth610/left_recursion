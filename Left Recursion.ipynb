{
 "cells": [
  {
   "cell_type": "code",
   "execution_count": 2,
   "metadata": {},
   "outputs": [
    {
     "name": "stdout",
     "output_type": "stream",
     "text": [
      "Enter the grammar:A->A+T|A\n",
      "A -> AA'\n",
      "A' -> +TA' | e\n"
     ]
    }
   ],
   "source": [
    "s= input(\"Enter the grammar:\")\n",
    "if s[0]!=s[3]:\n",
    "    print(\"No left recursion\")\n",
    "if s[0]==s[3]:\n",
    "    x=s[0]\n",
    "    l=len(s)\n",
    "    a=''\n",
    "    c=''\n",
    "    b=s[0]+\"'\"  \n",
    "    \n",
    "    for i in range(l):\n",
    "        if s[i]==\"|\":\n",
    "            a=a+s[i+1:]   \n",
    "    for i in range(l):\n",
    "        if s[i]==\"|\":\n",
    "            c=c+s[4:i]   \n",
    "    a=a+b\n",
    "    c=c+b   \n",
    "    print(s[0],\"->\",a)\n",
    "    print(b,\"->\",c,\"| e\")"
   ]
  },
  {
   "cell_type": "code",
   "execution_count": null,
   "metadata": {},
   "outputs": [],
   "source": []
  }
 ],
 "metadata": {
  "kernelspec": {
   "display_name": "Python 3",
   "language": "python",
   "name": "python3"
  },
  "language_info": {
   "codemirror_mode": {
    "name": "ipython",
    "version": 3
   },
   "file_extension": ".py",
   "mimetype": "text/x-python",
   "name": "python",
   "nbconvert_exporter": "python",
   "pygments_lexer": "ipython3",
   "version": "3.8.5"
  }
 },
 "nbformat": 4,
 "nbformat_minor": 4
}
